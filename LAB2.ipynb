{
  "cells": [
    {
      "cell_type": "code",
      "execution_count": 67,
      "metadata": {
        "id": "6ooQufIVOE7p"
      },
      "outputs": [],
      "source": [
        "import numpy as np\n",
        "import random"
      ]
    },
    {
      "cell_type": "code",
      "execution_count": 68,
      "metadata": {
        "id": "5K5527scOHZz"
      },
      "outputs": [],
      "source": [
        "def task_2_np(n):\n",
        "    arr = np.zeros((n, n))\n",
        "    arr.flat[::2] = 1\n",
        "    return arr\n",
        "\n",
        "def task_2_py(n):\n",
        "    arr = [\n",
        "        [(i % 2 + j % 2 + 1) % 2 for i in range(n)]\n",
        "        for j in range(n)\n",
        "    ]\n",
        "    return arr\n",
        "def task_2():\n",
        "    n = int(input())\n",
        "    return task_2_np(n)\n"
      ]
    },
    {
      "cell_type": "code",
      "execution_count": 69,
      "metadata": {
        "colab": {
          "base_uri": "https://localhost:8080/"
        },
        "id": "rMLUxYEMOtAd",
        "outputId": "feca8410-014d-4f07-f3be-3f125ba66c10"
      },
      "outputs": [
        {
          "name": "stdout",
          "output_type": "stream",
          "text": [
            "189 µs ± 28.7 µs per loop (mean ± std. dev. of 7 runs, 100 loops each)\n"
          ]
        }
      ],
      "source": [
        "%timeit -n 100 task_2_np(200)\n"
      ]
    },
    {
      "cell_type": "code",
      "execution_count": 70,
      "metadata": {
        "colab": {
          "base_uri": "https://localhost:8080/"
        },
        "id": "PUR5dnFvOt96",
        "outputId": "65fbf39b-2154-42e7-960b-97022a4f7b9f"
      },
      "outputs": [
        {
          "name": "stdout",
          "output_type": "stream",
          "text": [
            "5.02 ms ± 792 µs per loop (mean ± std. dev. of 7 runs, 100 loops each)\n"
          ]
        }
      ],
      "source": [
        "%timeit -n 100 task_2_py(200)"
      ]
    },
    {
      "cell_type": "markdown",
      "metadata": {
        "id": "B2CnibH0PyhE"
      },
      "source": [
        "# Numpy is 21x faster\n"
      ]
    },
    {
      "cell_type": "code",
      "execution_count": 71,
      "metadata": {
        "id": "aoqCl2ZVPkTM"
      },
      "outputs": [],
      "source": [
        "def task_3_np(n, m, r, c):\n",
        "    arr = np.ones((n, m), int)\n",
        "    arr[r] = 0\n",
        "    arr[:, c] = 0\n",
        "    return arr\n",
        "\n",
        "def task_3_py(n, m, r, c):\n",
        "    arr = [\n",
        "        [0 if j == r or i == c else 1 for i in range(n)]\n",
        "        for j in range(m)\n",
        "    ]\n",
        "    return arr"
      ]
    },
    {
      "cell_type": "code",
      "execution_count": 72,
      "metadata": {
        "id": "4nvwtmNMTHDj"
      },
      "outputs": [],
      "source": [
        "values = 6, 7, 2, 3\n",
        "\n"
      ]
    },
    {
      "cell_type": "code",
      "execution_count": 73,
      "metadata": {
        "colab": {
          "base_uri": "https://localhost:8080/"
        },
        "id": "tQC8oP2KTOUK",
        "outputId": "d0ff285b-6c5e-4001-dfdf-ed3e6a2f7e3a"
      },
      "outputs": [
        {
          "name": "stdout",
          "output_type": "stream",
          "text": [
            "The slowest run took 5.28 times longer than the fastest. This could mean that an intermediate result is being cached.\n",
            "15.6 µs ± 13.9 µs per loop (mean ± std. dev. of 7 runs, 100 loops each)\n"
          ]
        }
      ],
      "source": [
        "%timeit -n 100 task_3_py(*values)"
      ]
    },
    {
      "cell_type": "code",
      "execution_count": 74,
      "metadata": {
        "colab": {
          "base_uri": "https://localhost:8080/"
        },
        "id": "3ODxJizYYDdn",
        "outputId": "7116504c-3112-4bab-8c0b-5d79ba0c8ece"
      },
      "outputs": [
        {
          "name": "stdout",
          "output_type": "stream",
          "text": [
            "7.73 µs ± 4.04 µs per loop (mean ± std. dev. of 7 runs, 100 loops each)\n"
          ]
        }
      ],
      "source": [
        "%timeit -n 100 task_3_np(*values)"
      ]
    },
    {
      "cell_type": "markdown",
      "metadata": {
        "id": "chsjc6JoYI7N"
      },
      "source": [
        "Numpy is 3x faster"
      ]
    },
    {
      "cell_type": "code",
      "execution_count": 75,
      "metadata": {
        "id": "_aMnHDepYFUL"
      },
      "outputs": [],
      "source": [
        "def task_5_np(n):\n",
        "    arr = np.zeros((n, n), int)\n",
        "    arr[::2] = 1\n",
        "    return arr\n",
        "\n",
        "def task_5_py(n):\n",
        "    arr = [\n",
        "        [(j + 1) % 2 for i in range(n)]\n",
        "        for j in range(n)\n",
        "    ]\n",
        "    return arr"
      ]
    },
    {
      "cell_type": "code",
      "execution_count": 76,
      "metadata": {
        "colab": {
          "base_uri": "https://localhost:8080/"
        },
        "id": "pwJl9UuFY55a",
        "outputId": "e67ec350-c2dd-43c3-8dfc-cbd79f945b94"
      },
      "outputs": [
        {
          "name": "stdout",
          "output_type": "stream",
          "text": [
            "5.55 µs ± 274 ns per loop (mean ± std. dev. of 7 runs, 100 loops each)\n"
          ]
        }
      ],
      "source": [
        "%timeit -n 100 task_5_np(100)"
      ]
    },
    {
      "cell_type": "code",
      "execution_count": 77,
      "metadata": {
        "colab": {
          "base_uri": "https://localhost:8080/"
        },
        "id": "7r9eKgbTY7PR",
        "outputId": "b31f66ea-4496-4ca9-d7c7-0efb0aec95d8"
      },
      "outputs": [
        {
          "name": "stdout",
          "output_type": "stream",
          "text": [
            "742 µs ± 93.2 µs per loop (mean ± std. dev. of 7 runs, 100 loops each)\n"
          ]
        }
      ],
      "source": [
        "%timeit -n 100 task_5_py(100)"
      ]
    },
    {
      "cell_type": "markdown",
      "metadata": {
        "id": "D6NJ53WbZSAB"
      },
      "source": [
        "Numpy is 477x faster"
      ]
    },
    {
      "cell_type": "code",
      "execution_count": 78,
      "metadata": {
        "id": "68Fd6z-9ZLDN"
      },
      "outputs": [],
      "source": [
        "def task_9_np(n):\n",
        "    arr = np.arange(n, -1, -1)\n",
        "    return arr\n",
        "\n",
        "def task_9_py(n):\n",
        "    arr = list(range(n, -1, -1))\n",
        "    return arr"
      ]
    },
    {
      "cell_type": "code",
      "execution_count": 79,
      "metadata": {
        "colab": {
          "base_uri": "https://localhost:8080/"
        },
        "id": "1IhqU_kfZnst",
        "outputId": "b334dd70-b2c4-4644-e210-73edc4541664"
      },
      "outputs": [
        {
          "name": "stdout",
          "output_type": "stream",
          "text": [
            "The slowest run took 7.37 times longer than the fastest. This could mean that an intermediate result is being cached.\n",
            "3.16 µs ± 3.51 µs per loop (mean ± std. dev. of 7 runs, 100 loops each)\n"
          ]
        }
      ],
      "source": [
        "%timeit -n 100 task_9_np(300)"
      ]
    },
    {
      "cell_type": "code",
      "execution_count": 80,
      "metadata": {
        "colab": {
          "base_uri": "https://localhost:8080/"
        },
        "id": "IL6dNJN3ZoyR",
        "outputId": "b1ed3664-3d26-454b-e60f-7abdfd87ad88"
      },
      "outputs": [
        {
          "name": "stdout",
          "output_type": "stream",
          "text": [
            "1.1 µs ± 220 ns per loop (mean ± std. dev. of 7 runs, 100 loops each)\n"
          ]
        }
      ],
      "source": [
        "%timeit -n 100 task_9_py(90)"
      ]
    },
    {
      "cell_type": "markdown",
      "metadata": {
        "id": "Lmlao2fFZ8NW"
      },
      "source": [
        "Numpy is 2.7x faster"
      ]
    },
    {
      "cell_type": "code",
      "execution_count": 81,
      "metadata": {
        "id": "52O7rd8oo_2w"
      },
      "outputs": [],
      "source": [
        "def task_13_np(n=8):\n",
        "    row1 = np.repeat([[0, 1]], n // 2, axis=0).flatten()\n",
        "    row2 = np.repeat([[1, 0]], n // 2, axis=0).flatten()\n",
        "    arr = np.concatenate(np.repeat([[row1, row2]], [n // 2], axis=0))\n",
        "    return arr\n",
        "\n",
        "task_13_py = task_2_py"
      ]
    },
    {
      "cell_type": "code",
      "execution_count": 82,
      "metadata": {
        "colab": {
          "base_uri": "https://localhost:8080/"
        },
        "id": "7LO2bV9KpHV2",
        "outputId": "ad234d61-5088-40fc-e22f-a80ffff97aad"
      },
      "outputs": [
        {
          "name": "stdout",
          "output_type": "stream",
          "text": [
            "27.1 µs ± 6.83 µs per loop (mean ± std. dev. of 7 runs, 100 loops each)\n"
          ]
        }
      ],
      "source": [
        "%timeit -n 100 task_13_np(8)"
      ]
    },
    {
      "cell_type": "code",
      "execution_count": 83,
      "metadata": {
        "colab": {
          "base_uri": "https://localhost:8080/"
        },
        "id": "UHz4Xhdeqqbv",
        "outputId": "c2e0fc85-e6a0-4a9b-a818-354d64161561"
      },
      "outputs": [
        {
          "name": "stdout",
          "output_type": "stream",
          "text": [
            "15.6 µs ± 3.44 µs per loop (mean ± std. dev. of 7 runs, 100 loops each)\n"
          ]
        }
      ],
      "source": [
        "%timeit -n 100 task_13_py(8)"
      ]
    },
    {
      "cell_type": "markdown",
      "metadata": {
        "id": "K8K2-ZDorVRK"
      },
      "source": [
        "Python is 1.5x faster"
      ]
    },
    {
      "cell_type": "code",
      "execution_count": 84,
      "metadata": {
        "id": "Drkk_hPHZ63I"
      },
      "outputs": [],
      "source": [
        "def task_14_np(n=8):\n",
        "    arr = np.tile([np.tile([0, 1], n // 2), np.tile([1, 0], n // 2)], [n // 2, 1])\n",
        "    return arr\n",
        "\n",
        "task_14_py = task_2_py"
      ]
    },
    {
      "cell_type": "code",
      "execution_count": 85,
      "metadata": {
        "colab": {
          "base_uri": "https://localhost:8080/"
        },
        "id": "nqCGiJbKa30o",
        "outputId": "f488263d-0310-49cd-cead-b5ac5761e474"
      },
      "outputs": [
        {
          "name": "stdout",
          "output_type": "stream",
          "text": [
            "32.2 µs ± 7.49 µs per loop (mean ± std. dev. of 7 runs, 100 loops each)\n"
          ]
        }
      ],
      "source": [
        "%timeit -n 100 task_14_np(8)"
      ]
    },
    {
      "cell_type": "code",
      "execution_count": 86,
      "metadata": {
        "colab": {
          "base_uri": "https://localhost:8080/"
        },
        "id": "Umzkxa3za5yr",
        "outputId": "5e7e2763-5ed6-4e08-be20-50535538ca65"
      },
      "outputs": [
        {
          "name": "stdout",
          "output_type": "stream",
          "text": [
            "The slowest run took 4.02 times longer than the fastest. This could mean that an intermediate result is being cached.\n",
            "18.7 µs ± 11.5 µs per loop (mean ± std. dev. of 7 runs, 100 loops each)\n"
          ]
        }
      ],
      "source": [
        "%timeit -n 100 task_14_py(8)"
      ]
    },
    {
      "cell_type": "markdown",
      "metadata": {
        "id": "U_qxDXADs6kx"
      },
      "source": [
        "# Python is 1.75x Faster"
      ]
    },
    {
      "cell_type": "code",
      "execution_count": 87,
      "metadata": {
        "id": "CQnvim-0bQ_Z"
      },
      "outputs": [],
      "source": [
        "def task_16_np(n):\n",
        "    arr = np.arange(n + 1)\n",
        "    arr[(arr > n / 4) & (arr < 3 * n / 4)] = 0\n",
        "    return arr\n",
        "\n",
        "def task_16_py(n):\n",
        "    arr = [0 if i > n / 4 and i < 3 * n / 4 else i for i in range(n + 1)]\n",
        "    return arr"
      ]
    },
    {
      "cell_type": "code",
      "execution_count": 88,
      "metadata": {
        "colab": {
          "base_uri": "https://localhost:8080/"
        },
        "id": "wsICsFmucL-L",
        "outputId": "939a7634-1c1f-4894-8208-ab0c0b0e7afc"
      },
      "outputs": [
        {
          "name": "stdout",
          "output_type": "stream",
          "text": [
            "10.5 µs ± 3.63 µs per loop (mean ± std. dev. of 7 runs, 100 loops each)\n",
            "21.6 µs ± 2.6 µs per loop (mean ± std. dev. of 7 runs, 100 loops each)\n"
          ]
        }
      ],
      "source": [
        "%timeit -n 100 task_16_np(100)\n",
        "%timeit -n 100 task_16_py(100)"
      ]
    },
    {
      "cell_type": "markdown",
      "metadata": {
        "id": "QEKJmQePt999"
      },
      "source": [
        "# Numpy is 3.8x faster"
      ]
    },
    {
      "cell_type": "code",
      "execution_count": 89,
      "metadata": {
        "id": "aNIUIfc8ta8Q"
      },
      "outputs": [],
      "source": [
        "def task_20_np(n):\n",
        "    arr = np.random.rand(n)\n",
        "    arr[arr.argmax()] = 0\n",
        "    return arr\n",
        "\n",
        "def task_20_py(n):\n",
        "    arr = [random.random() for _ in range(n)]\n",
        "    arr[arr.index(max(arr))] = 0 \n",
        "    return arr"
      ]
    },
    {
      "cell_type": "code",
      "execution_count": 90,
      "metadata": {
        "colab": {
          "base_uri": "https://localhost:8080/"
        },
        "id": "7bSczbMjuo4a",
        "outputId": "30ec6f5b-646d-493c-bf12-257b1081b96e"
      },
      "outputs": [
        {
          "name": "stdout",
          "output_type": "stream",
          "text": [
            "5.34 µs ± 2.97 µs per loop (mean ± std. dev. of 7 runs, 100 loops each)\n",
            "14 µs ± 5.4 µs per loop (mean ± std. dev. of 7 runs, 100 loops each)\n"
          ]
        }
      ],
      "source": [
        "%timeit -n 100 task_20_np(100)\n",
        "%timeit -n 100 task_20_py(100)"
      ]
    },
    {
      "cell_type": "markdown",
      "metadata": {
        "id": "hUCkYP51u8lu"
      },
      "source": [
        "Numpy is 4x Faster"
      ]
    },
    {
      "cell_type": "code",
      "execution_count": 93,
      "metadata": {
        "id": "ZJI_KvNfr_Kw"
      },
      "outputs": [],
      "source": [
        "# Task 2\n",
        "def solve(matrix):\n",
        "    b = matrix[:, -1]\n",
        "    det = matrix[:, :-1]\n",
        "    dets = []\n",
        "    for i in range(matrix.shape[0]):\n",
        "        det_i = det.copy()\n",
        "        det_i[:, i] = b\n",
        "        dets.append(det_i)\n",
        "    det = np.linalg.det(det)\n",
        "    dets = [np.linalg.det(d) for d in dets]\n",
        "    solution = [d / det for d in dets]\n",
        "    return np.array(solution)\n",
        "\n",
        "matrix = [\n",
        "    [1, 2, 3, -2, 6],\n",
        "    [1, -1, -2, -3, 8],\n",
        "    [3, 2, -1, 2, 4],\n",
        "    [2, -3, 2, 1, -8]\n",
        "]\n",
        "matrix = np.array(matrix)"
      ]
    },
    {
      "cell_type": "code",
      "execution_count": 94,
      "metadata": {
        "colab": {
          "base_uri": "https://localhost:8080/"
        },
        "id": "muAaxFMcsI__",
        "outputId": "a6a2128d-30a9-4584-ba74-99f0de8577a8"
      },
      "outputs": [
        {
          "data": {
            "text/plain": [
              "array([[ 0.0625    ,  0.125     ,  0.1875    ,  0.125     ],\n",
              "       [ 0.10763889, -0.0625    ,  0.10069444, -0.17361111],\n",
              "       [ 0.15972222, -0.125     , -0.07638889,  0.09722222],\n",
              "       [-0.12152778, -0.1875    ,  0.07986111,  0.03472222]])"
            ]
          },
          "execution_count": 94,
          "metadata": {},
          "output_type": "execute_result"
        }
      ],
      "source": [
        "assert np.allclose(solve(matrix), np.linalg.solve(matrix[:, :-1], matrix[:, -1]))\n",
        "inv = np.linalg.inv(matrix[:, :-1])\n",
        "inv"
      ]
    },
    {
      "cell_type": "code",
      "execution_count": 95,
      "metadata": {
        "id": "gxkMHJ7MsMge"
      },
      "outputs": [],
      "source": [
        "# Task 3\n",
        "\n",
        "def mat_mat_(a, b, op):\n",
        "    c = []\n",
        "    for i in range(len(a)):\n",
        "        c.append([])\n",
        "        for j in range(len(a[0])):\n",
        "            c[-1].append(op(a[i][j], b[i][j]))\n",
        "    return c\n",
        "\n",
        "def mult_mat_mat(a, b):\n",
        "    return mat_mat_(a, b, lambda c, d: c * d)\n",
        "\n",
        "def sum_mat_mat(a, b):\n",
        "    return mat_mat_(a, b, lambda c, d: c + d)\n",
        "\n",
        "def mult_mat_scal(a, s):\n",
        "    return [[i * s for i in j] for j in a]\n",
        "\n",
        "def solve_np(a, b):\n",
        "    return 3 * a - (a - 2 * b) * b\n",
        "\n",
        "def solve_py(a, b):\n",
        "    return sum_mat_mat(mult_mat_scal(a, 3), mult_mat_mat(sum_mat_mat(a, mult_mat_scal(b, -2)), mult_mat_scal(b, -1)))"
      ]
    },
    {
      "cell_type": "code",
      "execution_count": 96,
      "metadata": {
        "colab": {
          "base_uri": "https://localhost:8080/"
        },
        "id": "n-a1GONmtfgR",
        "outputId": "13fa2525-ca28-46d1-d4d3-256a7c2763a1"
      },
      "outputs": [
        {
          "data": {
            "text/plain": [
              "True"
            ]
          },
          "execution_count": 96,
          "metadata": {},
          "output_type": "execute_result"
        }
      ],
      "source": [
        "A = [\n",
        "    [4, 5, -2],\n",
        "    [3, -1, 0],\n",
        "    [4, 2, 7]\n",
        "]\n",
        "B = [\n",
        "    [2, 1, -1],\n",
        "    [0, 1, 3],\n",
        "    [5, 7, 3]\n",
        "]\n",
        "A_np, B_np = np.array(A), np.array(B)\n",
        "np.allclose(solve_py(A, B), solve_np(A_np, B_np))"
      ]
    },
    {
      "cell_type": "code",
      "execution_count": 97,
      "metadata": {
        "colab": {
          "base_uri": "https://localhost:8080/"
        },
        "id": "t2LzdqfIttgw",
        "outputId": "f8bd3838-584c-45e3-bc40-5784d35cc68c"
      },
      "outputs": [
        {
          "name": "stdout",
          "output_type": "stream",
          "text": [
            "7.06 µs ± 2.19 µs per loop (mean ± std. dev. of 7 runs, 100 loops each)\n",
            "29.2 µs ± 11.8 µs per loop (mean ± std. dev. of 7 runs, 100 loops each)\n"
          ]
        }
      ],
      "source": [
        "%timeit -n 100 solve_np(A_np, B_np)\n",
        "%timeit -n 100 solve_py(A, B)"
      ]
    },
    {
      "cell_type": "markdown",
      "metadata": {
        "id": "RWGvvVqWt9Uc"
      },
      "source": []
    },
    {
      "cell_type": "markdown",
      "metadata": {
        "id": "e5GbO8nztu6F"
      },
      "source": [
        "# Numpy is 2.6X faster"
      ]
    }
  ],
  "metadata": {
    "colab": {
      "provenance": []
    },
    "kernelspec": {
      "display_name": "Python 3",
      "language": "python",
      "name": "python3"
    },
    "language_info": {
      "name": "python",
      "version": "3.10.6"
    },
    "vscode": {
      "interpreter": {
        "hash": "aee8b7b246df8f9039afb4144a1f6fd8d2ca17a180786b69acc140d282b71a49"
      }
    }
  },
  "nbformat": 4,
  "nbformat_minor": 0
}
